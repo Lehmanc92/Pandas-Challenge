{
 "cells": [
  {
   "cell_type": "markdown",
   "metadata": {},
   "source": [
    "### Note\n",
    "* Instructions have been included for each segment. You do not have to follow them exactly, but they are included to help you think through the steps."
   ]
  },
  {
   "cell_type": "code",
   "execution_count": 1,
   "metadata": {},
   "outputs": [
    {
     "output_type": "execute_result",
     "data": {
      "text/plain": [
       "     Purchase ID             SN  Age  Gender  Item ID  \\\n",
       "0              0        Lisim78   20    Male      108   \n",
       "1              1    Lisovynya38   40    Male      143   \n",
       "2              2     Ithergue48   24    Male       92   \n",
       "3              3  Chamassasya86   24    Male      100   \n",
       "4              4      Iskosia90   23    Male      131   \n",
       "..           ...            ...  ...     ...      ...   \n",
       "775          775     Aethedru70   21  Female       60   \n",
       "776          776         Iral74   21    Male      164   \n",
       "777          777     Yathecal72   20    Male       67   \n",
       "778          778        Sisur91    7    Male       92   \n",
       "779          779      Ennrian78   24    Male       50   \n",
       "\n",
       "                                     Item Name  Price  \n",
       "0    Extraction, Quickblade Of Trembling Hands   3.53  \n",
       "1                            Frenzied Scimitar   1.56  \n",
       "2                                 Final Critic   4.88  \n",
       "3                                  Blindscythe   3.27  \n",
       "4                                         Fury   1.44  \n",
       "..                                         ...    ...  \n",
       "775                                       Wolf   3.54  \n",
       "776                           Exiled Doomblade   1.63  \n",
       "777      Celeste, Incarnation of the Corrupted   3.46  \n",
       "778                               Final Critic   4.19  \n",
       "779                                       Dawn   4.60  \n",
       "\n",
       "[780 rows x 7 columns]"
      ],
      "text/html": "<div>\n<style scoped>\n    .dataframe tbody tr th:only-of-type {\n        vertical-align: middle;\n    }\n\n    .dataframe tbody tr th {\n        vertical-align: top;\n    }\n\n    .dataframe thead th {\n        text-align: right;\n    }\n</style>\n<table border=\"1\" class=\"dataframe\">\n  <thead>\n    <tr style=\"text-align: right;\">\n      <th></th>\n      <th>Purchase ID</th>\n      <th>SN</th>\n      <th>Age</th>\n      <th>Gender</th>\n      <th>Item ID</th>\n      <th>Item Name</th>\n      <th>Price</th>\n    </tr>\n  </thead>\n  <tbody>\n    <tr>\n      <th>0</th>\n      <td>0</td>\n      <td>Lisim78</td>\n      <td>20</td>\n      <td>Male</td>\n      <td>108</td>\n      <td>Extraction, Quickblade Of Trembling Hands</td>\n      <td>3.53</td>\n    </tr>\n    <tr>\n      <th>1</th>\n      <td>1</td>\n      <td>Lisovynya38</td>\n      <td>40</td>\n      <td>Male</td>\n      <td>143</td>\n      <td>Frenzied Scimitar</td>\n      <td>1.56</td>\n    </tr>\n    <tr>\n      <th>2</th>\n      <td>2</td>\n      <td>Ithergue48</td>\n      <td>24</td>\n      <td>Male</td>\n      <td>92</td>\n      <td>Final Critic</td>\n      <td>4.88</td>\n    </tr>\n    <tr>\n      <th>3</th>\n      <td>3</td>\n      <td>Chamassasya86</td>\n      <td>24</td>\n      <td>Male</td>\n      <td>100</td>\n      <td>Blindscythe</td>\n      <td>3.27</td>\n    </tr>\n    <tr>\n      <th>4</th>\n      <td>4</td>\n      <td>Iskosia90</td>\n      <td>23</td>\n      <td>Male</td>\n      <td>131</td>\n      <td>Fury</td>\n      <td>1.44</td>\n    </tr>\n    <tr>\n      <th>...</th>\n      <td>...</td>\n      <td>...</td>\n      <td>...</td>\n      <td>...</td>\n      <td>...</td>\n      <td>...</td>\n      <td>...</td>\n    </tr>\n    <tr>\n      <th>775</th>\n      <td>775</td>\n      <td>Aethedru70</td>\n      <td>21</td>\n      <td>Female</td>\n      <td>60</td>\n      <td>Wolf</td>\n      <td>3.54</td>\n    </tr>\n    <tr>\n      <th>776</th>\n      <td>776</td>\n      <td>Iral74</td>\n      <td>21</td>\n      <td>Male</td>\n      <td>164</td>\n      <td>Exiled Doomblade</td>\n      <td>1.63</td>\n    </tr>\n    <tr>\n      <th>777</th>\n      <td>777</td>\n      <td>Yathecal72</td>\n      <td>20</td>\n      <td>Male</td>\n      <td>67</td>\n      <td>Celeste, Incarnation of the Corrupted</td>\n      <td>3.46</td>\n    </tr>\n    <tr>\n      <th>778</th>\n      <td>778</td>\n      <td>Sisur91</td>\n      <td>7</td>\n      <td>Male</td>\n      <td>92</td>\n      <td>Final Critic</td>\n      <td>4.19</td>\n    </tr>\n    <tr>\n      <th>779</th>\n      <td>779</td>\n      <td>Ennrian78</td>\n      <td>24</td>\n      <td>Male</td>\n      <td>50</td>\n      <td>Dawn</td>\n      <td>4.60</td>\n    </tr>\n  </tbody>\n</table>\n<p>780 rows × 7 columns</p>\n</div>"
     },
     "metadata": {},
     "execution_count": 1
    }
   ],
   "source": [
    "# Dependencies and Setup\n",
    "import pandas as pd\n",
    "import os\n",
    "import statistics as stat\n",
    "\n",
    "# File to Load (Remember to Change These)\n",
    "file_to_load = os.path.join(\"../Resources/purchase_data.csv\")\n",
    "\n",
    "# Read Purchasing File and store into Pandas data frame\n",
    "purchase_data_df = pd.read_csv(file_to_load)\n",
    "purchase_data_df\n"
   ]
  },
  {
   "cell_type": "markdown",
   "metadata": {},
   "source": [
    "## Player Count"
   ]
  },
  {
   "cell_type": "markdown",
   "metadata": {},
   "source": [
    "* Display the total number of players\n"
   ]
  },
  {
   "cell_type": "code",
   "execution_count": 2,
   "metadata": {},
   "outputs": [
    {
     "output_type": "execute_result",
     "data": {
      "text/plain": [
       "   Total Players\n",
       "0            576"
      ],
      "text/html": "<div>\n<style scoped>\n    .dataframe tbody tr th:only-of-type {\n        vertical-align: middle;\n    }\n\n    .dataframe tbody tr th {\n        vertical-align: top;\n    }\n\n    .dataframe thead th {\n        text-align: right;\n    }\n</style>\n<table border=\"1\" class=\"dataframe\">\n  <thead>\n    <tr style=\"text-align: right;\">\n      <th></th>\n      <th>Total Players</th>\n    </tr>\n  </thead>\n  <tbody>\n    <tr>\n      <th>0</th>\n      <td>576</td>\n    </tr>\n  </tbody>\n</table>\n</div>"
     },
     "metadata": {},
     "execution_count": 2
    }
   ],
   "source": [
    "# Calculating total unique players and posting the number in a small data frame\n",
    "\n",
    "total_players = len(purchase_data_df['SN'].unique())\n",
    "\n",
    "# print(total_players)\n",
    "\n",
    "total_player_df = pd.DataFrame([total_players], columns=['Total Players'])\n",
    "total_player_df"
   ]
  },
  {
   "cell_type": "markdown",
   "metadata": {},
   "source": [
    "## Purchasing Analysis (Total)"
   ]
  },
  {
   "cell_type": "markdown",
   "metadata": {},
   "source": [
    "* Run basic calculations to obtain number of unique items, average price, etc.\n",
    "\n",
    "\n",
    "* Create a summary data frame to hold the results\n",
    "\n",
    "\n",
    "* Optional: give the displayed data cleaner formatting\n",
    "\n",
    "\n",
    "* Display the summary data frame\n"
   ]
  },
  {
   "cell_type": "code",
   "execution_count": 3,
   "metadata": {
    "scrolled": true
   },
   "outputs": [
    {
     "output_type": "stream",
     "name": "stdout",
     "text": [
      "Total Unique Items: 179\nAverage Price: $3.05\nTotal Purchases: 780\nTotal Revenue: $2379.77\n"
     ]
    }
   ],
   "source": [
    "#purchase_data_df.describe\n",
    "\n",
    "# Determine all unique items\n",
    "unique_items = len(purchase_data_df['Item Name'].unique())\n",
    "print(\"Total Unique Items: \" + str(unique_items))\n",
    "\n",
    "# Average purchase price\n",
    "average_price = purchase_data_df['Price'].mean()\n",
    "print(\"Average Price: $\" + str(round(average_price,2)))\n",
    "\n",
    "# Total number of purchases\n",
    "total_purchases = len(purchase_data_df['Purchase ID'])\n",
    "print(\"Total Purchases: \" + str(total_purchases))\n",
    "\n",
    "# Total revenue of all purchases\n",
    "total_revenue = purchase_data_df['Price'].sum()\n",
    "print(\"Total Revenue: $\" + str(round(total_revenue,2)))"
   ]
  },
  {
   "cell_type": "markdown",
   "metadata": {},
   "source": [
    "## Gender Demographics"
   ]
  },
  {
   "cell_type": "markdown",
   "metadata": {},
   "source": [
    "* Percentage and Count of Male Players\n",
    "\n",
    "\n",
    "* Percentage and Count of Female Players\n",
    "\n",
    "\n",
    "* Percentage and Count of Other / Non-Disclosed\n",
    "\n",
    "\n"
   ]
  },
  {
   "cell_type": "code",
   "execution_count": 4,
   "metadata": {},
   "outputs": [
    {
     "output_type": "stream",
     "name": "stdout",
     "text": [
      "Total Male Players 484\nPercent Male Players: 84.03%\nTotal Female Players: 81\nPercent Female Players: 14.06%\nTotal Players Not Specifying Gender: 11\nPercent Players Not Specifying Gender: 1.91%\n"
     ]
    }
   ],
   "source": [
    "# Male players\n",
    "male_df = purchase_data_df[purchase_data_df['Gender'] == \"Male\"]\n",
    "\n",
    "male_players_total = len(male_df['SN'].unique())\n",
    "male_players_percent = round((male_players_total / total_players) * 100, 2)\n",
    "\n",
    "print(f'Total Male Players {male_players_total}\\n'\n",
    "f'Percent Male Players: {male_players_percent}%')\n",
    "\n",
    "# Female players\n",
    "female_df = purchase_data_df[purchase_data_df['Gender'] == \"Female\"]\n",
    "\n",
    "female_players_total = len(female_df['SN'].unique())\n",
    "female_players_percent = round((female_players_total / total_players) * 100, 2)\n",
    "\n",
    "print(f'Total Female Players: {female_players_total}\\n'\n",
    "f'Percent Female Players: {female_players_percent}%')\n",
    "\n",
    "# Non-binary or non-disclosed players\n",
    "non_specified_df = purchase_data_df[(purchase_data_df['Gender'] != 'Male') & (purchase_data_df['Gender'] != 'Female')]\n",
    "\n",
    "non_specified_players_total = len(non_specified_df['SN'].unique())\n",
    "non_specified_players_percent = round((non_specified_players_total / total_players) * 100, 2)\n",
    "\n",
    "print(f'Total Players Not Specifying Gender: {non_specified_players_total}\\n'\n",
    "f'Percent Players Not Specifying Gender: {non_specified_players_percent}%')\n",
    "\n",
    "# # Check to ensure percentages add up to 100%\n",
    "# total = male_players_percent + female_players_percent + non_specified_players_percent\n",
    "# print(total)\n",
    "\n"
   ]
  },
  {
   "cell_type": "code",
   "execution_count": 5,
   "metadata": {},
   "outputs": [
    {
     "output_type": "execute_result",
     "data": {
      "text/plain": [
       "                       Total Count Percentage of Players\n",
       "Male                           484                84.03%\n",
       "Female                          81                14.06%\n",
       "Other / Non-Disclosed           11                 1.91%"
      ],
      "text/html": "<div>\n<style scoped>\n    .dataframe tbody tr th:only-of-type {\n        vertical-align: middle;\n    }\n\n    .dataframe tbody tr th {\n        vertical-align: top;\n    }\n\n    .dataframe thead th {\n        text-align: right;\n    }\n</style>\n<table border=\"1\" class=\"dataframe\">\n  <thead>\n    <tr style=\"text-align: right;\">\n      <th></th>\n      <th>Total Count</th>\n      <th>Percentage of Players</th>\n    </tr>\n  </thead>\n  <tbody>\n    <tr>\n      <th>Male</th>\n      <td>484</td>\n      <td>84.03%</td>\n    </tr>\n    <tr>\n      <th>Female</th>\n      <td>81</td>\n      <td>14.06%</td>\n    </tr>\n    <tr>\n      <th>Other / Non-Disclosed</th>\n      <td>11</td>\n      <td>1.91%</td>\n    </tr>\n  </tbody>\n</table>\n</div>"
     },
     "metadata": {},
     "execution_count": 5
    }
   ],
   "source": [
    "#Push all Gender data to a Data Frame\n",
    "gender_summary_data = {\n",
    "    'Total Count' : [male_players_total, female_players_total, non_specified_players_total],\n",
    "    'Percentage of Players' : [male_players_percent, female_players_percent, non_specified_players_percent]\n",
    "    }\n",
    "gender_df = pd.DataFrame(gender_summary_data, index=['Male','Female','Other / Non-Disclosed'])\n",
    "\n",
    "# Add formatting to df\n",
    "gender_df['Percentage of Players'] = gender_df['Percentage of Players'].map('{:.4}%'.format)\n",
    "\n",
    "gender_df"
   ]
  },
  {
   "cell_type": "markdown",
   "metadata": {},
   "source": [
    "\n",
    "## Purchasing Analysis (Gender)"
   ]
  },
  {
   "cell_type": "markdown",
   "metadata": {},
   "source": [
    "* Run basic calculations to obtain purchase count, avg. purchase price, avg. purchase total per person etc. by gender\n",
    "\n",
    "\n",
    "\n",
    "\n",
    "* Create a summary data frame to hold the results\n",
    "\n",
    "\n",
    "* Optional: give the displayed data cleaner formatting\n",
    "\n",
    "\n",
    "* Display the summary data frame"
   ]
  },
  {
   "cell_type": "code",
   "execution_count": 6,
   "metadata": {},
   "outputs": [
    {
     "output_type": "stream",
     "name": "stdout",
     "text": [
      "Male Purchase Count: 652\nMale Total Purchases: $1967.64\nMale Average Purchase: $3.02\nMale per Capita Purchase Total: $4.07\n"
     ]
    }
   ],
   "source": [
    "# Calculating and printing male purchase data\n",
    "\n",
    "male_purchase_count = male_df['Purchase ID'].count()\n",
    "male_average_price = male_df['Price'].mean()\n",
    "male_total_purchase = male_df['Price'].sum()\n",
    "male_per_capita_df = male_df.groupby(\"SN\").sum()\n",
    "male_per_capita = male_per_capita_df['Price'].mean()\n",
    "# male_df.dtypes\n",
    "\n",
    "\n",
    "print('Male Purchase Count: ' + str(male_purchase_count))\n",
    "print('Male Total Purchases: $' + str(male_total_purchase))\n",
    "print('Male Average Purchase: $' + str(round(male_average_price,2)))\n",
    "print('Male per Capita Purchase Total: $' + str(round(male_per_capita,2)))\n",
    "# print(male_per_capita_df)"
   ]
  },
  {
   "cell_type": "code",
   "execution_count": 7,
   "metadata": {},
   "outputs": [
    {
     "output_type": "stream",
     "name": "stdout",
     "text": [
      "female Purchase Count: 113\nfemale Total Purchases: $361.94\nfemale Average Purchase: $3.2\nfemale per Capita Purchase Total: $4.47\n"
     ]
    }
   ],
   "source": [
    "# Calculating and printing female purchase data\n",
    "\n",
    "female_purchase_count = female_df['Purchase ID'].count()\n",
    "female_average_price = female_df['Price'].mean()\n",
    "female_total_purchase = female_df['Price'].sum()\n",
    "female_per_capita_df = female_df.groupby(\"SN\").sum()\n",
    "female_per_capita = female_per_capita_df['Price'].mean()\n",
    "# female_df.dtypes\n",
    "\n",
    "\n",
    "print('female Purchase Count: ' + str(female_purchase_count))\n",
    "print('female Total Purchases: $' + str(female_total_purchase))\n",
    "print('female Average Purchase: $' + str(round(female_average_price,2)))\n",
    "print('female per Capita Purchase Total: $' + str(round(female_per_capita,2)))"
   ]
  },
  {
   "cell_type": "code",
   "execution_count": 8,
   "metadata": {},
   "outputs": [
    {
     "output_type": "stream",
     "name": "stdout",
     "text": [
      "non_specified Purchase Count: 15\nnon_specified Total Purchases: $50.19\nnon_specified Average Purchase: $3.35\nnon_specified per Capita Purchase Total: $4.56\n"
     ]
    }
   ],
   "source": [
    "# Calculating and printing non-binary or non_specified purchase data\n",
    "\n",
    "non_specified_purchase_count = non_specified_df['Purchase ID'].count()\n",
    "non_specified_average_price = non_specified_df['Price'].mean()\n",
    "non_specified_total_purchase = non_specified_df['Price'].sum()\n",
    "non_specified_per_capita_df = non_specified_df.groupby(\"SN\").sum()\n",
    "non_specified_per_capita = non_specified_per_capita_df['Price'].mean()\n",
    "# non_specified_df.dtypes\n",
    "\n",
    "\n",
    "print('non_specified Purchase Count: ' + str(non_specified_purchase_count))\n",
    "print('non_specified Total Purchases: $' + str(non_specified_total_purchase))\n",
    "print('non_specified Average Purchase: $' + str(round(non_specified_average_price,2)))\n",
    "print('non_specified per Capita Purchase Total: $' + str(round(non_specified_per_capita,2)))"
   ]
  },
  {
   "cell_type": "code",
   "execution_count": 9,
   "metadata": {},
   "outputs": [
    {
     "output_type": "execute_result",
     "data": {
      "text/plain": [
       "                       Purchase Count Average Purchase Price  \\\n",
       "Female                            113                  $3.20   \n",
       "Male                              652                  $3.02   \n",
       "Other / Non-Disclosed              15                  $3.35   \n",
       "\n",
       "                      Total Purchase Value Avg Total Purchase per Person  \n",
       "Female                             $361.94                         $4.47  \n",
       "Male                              $1967.64                         $4.07  \n",
       "Other / Non-Disclosed               $50.19                         $4.56  "
      ],
      "text/html": "<div>\n<style scoped>\n    .dataframe tbody tr th:only-of-type {\n        vertical-align: middle;\n    }\n\n    .dataframe tbody tr th {\n        vertical-align: top;\n    }\n\n    .dataframe thead th {\n        text-align: right;\n    }\n</style>\n<table border=\"1\" class=\"dataframe\">\n  <thead>\n    <tr style=\"text-align: right;\">\n      <th></th>\n      <th>Purchase Count</th>\n      <th>Average Purchase Price</th>\n      <th>Total Purchase Value</th>\n      <th>Avg Total Purchase per Person</th>\n    </tr>\n  </thead>\n  <tbody>\n    <tr>\n      <th>Female</th>\n      <td>113</td>\n      <td>$3.20</td>\n      <td>$361.94</td>\n      <td>$4.47</td>\n    </tr>\n    <tr>\n      <th>Male</th>\n      <td>652</td>\n      <td>$3.02</td>\n      <td>$1967.64</td>\n      <td>$4.07</td>\n    </tr>\n    <tr>\n      <th>Other / Non-Disclosed</th>\n      <td>15</td>\n      <td>$3.35</td>\n      <td>$50.19</td>\n      <td>$4.56</td>\n    </tr>\n  </tbody>\n</table>\n</div>"
     },
     "metadata": {},
     "execution_count": 9
    }
   ],
   "source": [
    "# Summary dataframe for gender information\n",
    "\n",
    "gender_purchase_data = {\n",
    "    'Purchase Count' : [female_purchase_count, male_purchase_count, non_specified_purchase_count],\n",
    "    'Average Purchase Price' : [female_average_price, male_average_price, non_specified_average_price],\n",
    "    'Total Purchase Value' : [female_total_purchase, male_total_purchase, non_specified_total_purchase],\n",
    "    'Avg Total Purchase per Person' : [female_per_capita, male_per_capita, non_specified_per_capita]\n",
    "    }\n",
    "gender_purchase_df = pd.DataFrame(gender_purchase_data, index=['Female','Male','Other / Non-Disclosed'])\n",
    "\n",
    "# format data frame with .map function\n",
    "\n",
    "gender_purchase_df['Average Purchase Price'] = gender_purchase_df['Average Purchase Price'].map(\"${:.2f}\".format)\n",
    "gender_purchase_df['Total Purchase Value'] = gender_purchase_df['Total Purchase Value'].map(\"${:.2f}\".format)\n",
    "gender_purchase_df['Avg Total Purchase per Person'] = gender_purchase_df['Avg Total Purchase per Person'].map(\"${:.2f}\".format)\n",
    "\n",
    "gender_purchase_df"
   ]
  },
  {
   "cell_type": "markdown",
   "metadata": {},
   "source": [
    "* Establish bins for ages\n",
    "\n",
    "\n",
    "* Categorize the existing players using the age bins. Hint: use pd.cut()\n",
    "\n",
    "\n",
    "* Calculate the numbers and percentages by age group\n",
    "\n",
    "\n",
    "* Create a summary data frame to hold the results\n",
    "\n",
    "\n",
    "* Optional: round the percentage column to two decimal points\n",
    "\n",
    "\n",
    "* Display Age Demographics Table\n"
   ]
  },
  {
   "source": [
    "## Age Demographics\n",
    "\n",
    "# Determining min and max age to help with appropriate bin size selection\n",
    "max_age = purchase_data_df['Age'].max()\n",
    "min_age = purchase_data_df['Age'].min()\n",
    "print(\"Max age: \" + str(max_age))\n",
    "print(\"Min age: \" + str(min_age))\n",
    "\n",
    "\n",
    "# Creating bins and bin labels\n",
    "age_bins = [0, 9, 14, 19, 24, 29, 34, 39, 120]\n",
    "age_bin_names = ['<10', '10-14', '15-19', '20-24', '25-29', '30-34', '35-39', '40+']\n",
    "\n",
    "\n",
    "# Adding a 'Total Count' Column with age bins to the original data frame\n",
    "purchase_data_df['Total Count'] = pd.cut(purchase_data_df['Age'], age_bins, labels=age_bin_names, include_lowest=True)\n",
    "\n",
    "\n",
    "# Making new data frame without duplicate screen names\n",
    "age_df = purchase_data_df.drop_duplicates(subset=['SN'])\n",
    "\n",
    "# Adding a 'Percentage of Players' column \n",
    "age_bin_counts = age_df['Total Count'].value_counts()\n",
    "percent_age_bin_counts = ((age_df['Total Count'].value_counts()) / total_players) * 100\n",
    "\n",
    "# print(percent_age_bin_counts)\n",
    "# print(age_bin_counts)\n"
   ],
   "cell_type": "code",
   "metadata": {},
   "execution_count": 10,
   "outputs": [
    {
     "output_type": "stream",
     "name": "stdout",
     "text": [
      "Max age: 45\nMin age: 7\n"
     ]
    }
   ]
  },
  {
   "cell_type": "code",
   "execution_count": 11,
   "metadata": {},
   "outputs": [
    {
     "output_type": "execute_result",
     "data": {
      "text/plain": [
       "       Total Count Percentage of Players\n",
       "<10             17                 2.95%\n",
       "10-14           22                 3.82%\n",
       "15-19          107                18.58%\n",
       "20-24          258                44.79%\n",
       "25-29           77                13.37%\n",
       "30-34           52                 9.03%\n",
       "35-39           31                 5.38%\n",
       "40+             12                 2.08%"
      ],
      "text/html": "<div>\n<style scoped>\n    .dataframe tbody tr th:only-of-type {\n        vertical-align: middle;\n    }\n\n    .dataframe tbody tr th {\n        vertical-align: top;\n    }\n\n    .dataframe thead th {\n        text-align: right;\n    }\n</style>\n<table border=\"1\" class=\"dataframe\">\n  <thead>\n    <tr style=\"text-align: right;\">\n      <th></th>\n      <th>Total Count</th>\n      <th>Percentage of Players</th>\n    </tr>\n  </thead>\n  <tbody>\n    <tr>\n      <th>&lt;10</th>\n      <td>17</td>\n      <td>2.95%</td>\n    </tr>\n    <tr>\n      <th>10-14</th>\n      <td>22</td>\n      <td>3.82%</td>\n    </tr>\n    <tr>\n      <th>15-19</th>\n      <td>107</td>\n      <td>18.58%</td>\n    </tr>\n    <tr>\n      <th>20-24</th>\n      <td>258</td>\n      <td>44.79%</td>\n    </tr>\n    <tr>\n      <th>25-29</th>\n      <td>77</td>\n      <td>13.37%</td>\n    </tr>\n    <tr>\n      <th>30-34</th>\n      <td>52</td>\n      <td>9.03%</td>\n    </tr>\n    <tr>\n      <th>35-39</th>\n      <td>31</td>\n      <td>5.38%</td>\n    </tr>\n    <tr>\n      <th>40+</th>\n      <td>12</td>\n      <td>2.08%</td>\n    </tr>\n  </tbody>\n</table>\n</div>"
     },
     "metadata": {},
     "execution_count": 11
    }
   ],
   "source": [
    "# Summary table for total counts and percentage by age\n",
    "\n",
    "age_count_summary = {\n",
    "    'Total Count' : age_bin_counts,\n",
    "    'Percentage of Players' : percent_age_bin_counts\n",
    "}\n",
    "\n",
    "age_count_summary_table = pd.DataFrame(age_count_summary, index=age_bin_names)\n",
    "\n",
    "# Format data frame\n",
    "age_count_summary_table['Percentage of Players'] = age_count_summary_table['Percentage of Players'].map('{:.2f}%'.format)\n",
    "\n",
    "age_count_summary_table"
   ]
  },
  {
   "cell_type": "markdown",
   "metadata": {},
   "source": [
    "## Purchasing Analysis (Age)"
   ]
  },
  {
   "cell_type": "markdown",
   "metadata": {},
   "source": [
    "* Bin the purchase_data data frame by age\n",
    "\n",
    "\n",
    "* Run basic calculations to obtain purchase count, avg. purchase price, avg. purchase total per person etc. in the table below\n",
    "\n",
    "\n",
    "* Create a summary data frame to hold the results\n",
    "\n",
    "\n",
    "* Optional: give the displayed data cleaner formatting\n",
    "\n",
    "\n",
    "* Display the summary data frame"
   ]
  },
  {
   "cell_type": "code",
   "execution_count": 12,
   "metadata": {},
   "outputs": [],
   "source": [
    "age_range =  purchase_data_df.groupby('Total Count')\n",
    "\n",
    "age_purchase_counts = purchase_data_df['Total Count'].value_counts()\n",
    "# print(age_purchase_counts)\n",
    "\n",
    "age_average_purchase_price = age_range['Price'].mean()\n",
    "# print(age_average_purchase_price)\n",
    "\n",
    "age_total_purchase_value = age_range['Price'].sum()\n",
    "# print(age_total_purchase_value)\n",
    "\n",
    "avg_total_purchase_per_person = age_range['Price'].sum() / age_range['SN'].nunique()\n",
    "# print(avg_total_purchase_per_person)\n",
    "\n"
   ]
  },
  {
   "cell_type": "code",
   "execution_count": 13,
   "metadata": {},
   "outputs": [
    {
     "output_type": "execute_result",
     "data": {
      "text/plain": [
       "       Purchase Count Average Purchase Price Total Purchase Value  \\\n",
       "<10                23                  $3.35               $77.13   \n",
       "10-14              28                  $2.96               $82.78   \n",
       "15-19             136                  $3.04              $412.89   \n",
       "20-24             365                  $3.05             $1114.06   \n",
       "25-29             101                  $2.90              $293.00   \n",
       "30-34              73                  $2.93              $214.00   \n",
       "35-39              41                  $3.60              $147.67   \n",
       "40+                13                  $2.94               $38.24   \n",
       "\n",
       "      Avg Total Purchase per Person  \n",
       "<10                           $4.54  \n",
       "10-14                         $3.76  \n",
       "15-19                         $3.86  \n",
       "20-24                         $4.32  \n",
       "25-29                         $3.81  \n",
       "30-34                         $4.12  \n",
       "35-39                         $4.76  \n",
       "40+                           $3.19  "
      ],
      "text/html": "<div>\n<style scoped>\n    .dataframe tbody tr th:only-of-type {\n        vertical-align: middle;\n    }\n\n    .dataframe tbody tr th {\n        vertical-align: top;\n    }\n\n    .dataframe thead th {\n        text-align: right;\n    }\n</style>\n<table border=\"1\" class=\"dataframe\">\n  <thead>\n    <tr style=\"text-align: right;\">\n      <th></th>\n      <th>Purchase Count</th>\n      <th>Average Purchase Price</th>\n      <th>Total Purchase Value</th>\n      <th>Avg Total Purchase per Person</th>\n    </tr>\n  </thead>\n  <tbody>\n    <tr>\n      <th>&lt;10</th>\n      <td>23</td>\n      <td>$3.35</td>\n      <td>$77.13</td>\n      <td>$4.54</td>\n    </tr>\n    <tr>\n      <th>10-14</th>\n      <td>28</td>\n      <td>$2.96</td>\n      <td>$82.78</td>\n      <td>$3.76</td>\n    </tr>\n    <tr>\n      <th>15-19</th>\n      <td>136</td>\n      <td>$3.04</td>\n      <td>$412.89</td>\n      <td>$3.86</td>\n    </tr>\n    <tr>\n      <th>20-24</th>\n      <td>365</td>\n      <td>$3.05</td>\n      <td>$1114.06</td>\n      <td>$4.32</td>\n    </tr>\n    <tr>\n      <th>25-29</th>\n      <td>101</td>\n      <td>$2.90</td>\n      <td>$293.00</td>\n      <td>$3.81</td>\n    </tr>\n    <tr>\n      <th>30-34</th>\n      <td>73</td>\n      <td>$2.93</td>\n      <td>$214.00</td>\n      <td>$4.12</td>\n    </tr>\n    <tr>\n      <th>35-39</th>\n      <td>41</td>\n      <td>$3.60</td>\n      <td>$147.67</td>\n      <td>$4.76</td>\n    </tr>\n    <tr>\n      <th>40+</th>\n      <td>13</td>\n      <td>$2.94</td>\n      <td>$38.24</td>\n      <td>$3.19</td>\n    </tr>\n  </tbody>\n</table>\n</div>"
     },
     "metadata": {},
     "execution_count": 13
    }
   ],
   "source": [
    "# Creating dictionary for Data Frame format\n",
    "age_purchase_summary = ({\n",
    "    'Purchase Count' : age_purchase_counts,\n",
    "    'Average Purchase Price' : age_average_purchase_price,\n",
    "    'Total Purchase Value' : age_total_purchase_value,\n",
    "    'Avg Total Purchase per Person' : avg_total_purchase_per_person\n",
    "})\n",
    "\n",
    "# Converting purchasing summary dictionary into Data Frame\n",
    "age_purchase_summary_table = pd.DataFrame(age_purchase_summary)\n",
    "\n",
    "# Format data frame\n",
    "age_purchase_summary_table['Average Purchase Price'] = age_purchase_summary_table['Average Purchase Price'].map('${:.2f}'.format)\n",
    "age_purchase_summary_table['Total Purchase Value'] = age_purchase_summary_table['Total Purchase Value'].map('${:.2f}'.format)\n",
    "age_purchase_summary_table['Avg Total Purchase per Person'] = age_purchase_summary_table['Avg Total Purchase per Person'].map('${:.2f}'.format)\n",
    "\n",
    "age_purchase_summary_table"
   ]
  },
  {
   "cell_type": "markdown",
   "metadata": {},
   "source": [
    "## Top Spenders"
   ]
  },
  {
   "cell_type": "markdown",
   "metadata": {},
   "source": [
    "* Run basic calculations to obtain the results in the table below\n",
    "\n",
    "\n",
    "* Create a summary data frame to hold the results\n",
    "\n",
    "\n",
    "* Sort the total purchase value column in descending order\n",
    "\n",
    "\n",
    "* Optional: give the displayed data cleaner formatting\n",
    "\n",
    "\n",
    "* Display a preview of the summary data frame\n",
    "\n"
   ]
  },
  {
   "cell_type": "code",
   "execution_count": 14,
   "metadata": {},
   "outputs": [
    {
     "output_type": "execute_result",
     "data": {
      "text/plain": [
       "             Purchase Count Average Purchase Price Total Purchase Value\n",
       "SN                                                                     \n",
       "Lisosia93                 5                  $3.79               $18.96\n",
       "Idastidru52               4                  $3.86               $15.45\n",
       "Chamjask73                3                  $4.61               $13.83\n",
       "Iral74                    4                  $3.40               $13.62\n",
       "Iskadarya95               3                  $4.37               $13.10"
      ],
      "text/html": "<div>\n<style scoped>\n    .dataframe tbody tr th:only-of-type {\n        vertical-align: middle;\n    }\n\n    .dataframe tbody tr th {\n        vertical-align: top;\n    }\n\n    .dataframe thead th {\n        text-align: right;\n    }\n</style>\n<table border=\"1\" class=\"dataframe\">\n  <thead>\n    <tr style=\"text-align: right;\">\n      <th></th>\n      <th>Purchase Count</th>\n      <th>Average Purchase Price</th>\n      <th>Total Purchase Value</th>\n    </tr>\n    <tr>\n      <th>SN</th>\n      <th></th>\n      <th></th>\n      <th></th>\n    </tr>\n  </thead>\n  <tbody>\n    <tr>\n      <th>Lisosia93</th>\n      <td>5</td>\n      <td>$3.79</td>\n      <td>$18.96</td>\n    </tr>\n    <tr>\n      <th>Idastidru52</th>\n      <td>4</td>\n      <td>$3.86</td>\n      <td>$15.45</td>\n    </tr>\n    <tr>\n      <th>Chamjask73</th>\n      <td>3</td>\n      <td>$4.61</td>\n      <td>$13.83</td>\n    </tr>\n    <tr>\n      <th>Iral74</th>\n      <td>4</td>\n      <td>$3.40</td>\n      <td>$13.62</td>\n    </tr>\n    <tr>\n      <th>Iskadarya95</th>\n      <td>3</td>\n      <td>$4.37</td>\n      <td>$13.10</td>\n    </tr>\n  </tbody>\n</table>\n</div>"
     },
     "metadata": {},
     "execution_count": 14
    }
   ],
   "source": [
    "# Creating a group-by of individual spenders\n",
    "spenders =  purchase_data_df.groupby('SN')\n",
    "\n",
    "# Capture number of purchases for each user\n",
    "spender_purchase_count = spenders['Purchase ID'].nunique()\n",
    "\n",
    "# Capture total amount paid for each user\n",
    "spender_total_purchase_price = spenders['Price'].sum()\n",
    "\n",
    "# Capture average amount paid per transaction for each user\n",
    "spender_average_purchase_price = spender_total_purchase_price / spender_purchase_count\n",
    "\n",
    "# Creating dictionary to load Data Frame\n",
    "\n",
    "spender_summary = {\n",
    "    'Purchase Count' : spender_purchase_count,\n",
    "    'Average Purchase Price' : spender_average_purchase_price,\n",
    "    'Total Purchase Value' : spender_total_purchase_price\n",
    "}\n",
    "\n",
    "spender_summary_table = pd.DataFrame(spender_summary)\n",
    "\n",
    "# Sort data frame in descending order by total purchase value, then format purchases to USD with 2 decimals\n",
    "\n",
    "spender_summary_table = spender_summary_table.sort_values(['Total Purchase Value'], ascending=False)\n",
    "\n",
    "spender_summary_table['Average Purchase Price'] = spender_summary_table['Average Purchase Price'].map('${:,.2f}'.format)\n",
    "spender_summary_table['Total Purchase Value'] = spender_summary_table['Total Purchase Value'].map('${:,.2f}'.format)\n",
    "\n",
    "# spender_purchase_count\n",
    "# spender_average_purchase_price\n",
    "# spender_total_purchase_price\n",
    "\n",
    "spender_summary_table.head(5)"
   ]
  },
  {
   "cell_type": "markdown",
   "metadata": {},
   "source": [
    "## Most Popular Items"
   ]
  },
  {
   "cell_type": "markdown",
   "metadata": {},
   "source": [
    "* Retrieve the Item ID, Item Name, and Item Price columns\n",
    "\n",
    "\n",
    "* Group by Item ID and Item Name. Perform calculations to obtain purchase count, average item price, and total purchase value\n",
    "\n",
    "\n",
    "* Create a summary data frame to hold the results\n",
    "\n",
    "\n",
    "* Sort the purchase count column in descending order\n",
    "\n",
    "\n",
    "* Optional: give the displayed data cleaner formatting\n",
    "\n",
    "\n",
    "* Display a preview of the summary data frame\n",
    "\n"
   ]
  },
  {
   "cell_type": "code",
   "execution_count": 15,
   "metadata": {},
   "outputs": [
    {
     "output_type": "execute_result",
     "data": {
      "text/plain": [
       "                                                      Purchase Count  \\\n",
       "Item ID Item Name                                                      \n",
       "92      Final Critic                                              13   \n",
       "178     Oathbreaker, Last Hope of the Breaking Storm              12   \n",
       "145     Fiery Glass Crusader                                       9   \n",
       "132     Persuasion                                                 9   \n",
       "108     Extraction, Quickblade Of Trembling Hands                  9   \n",
       "\n",
       "                                                     Item Price  \\\n",
       "Item ID Item Name                                                 \n",
       "92      Final Critic                                      $4.61   \n",
       "178     Oathbreaker, Last Hope of the Breaking Storm      $4.23   \n",
       "145     Fiery Glass Crusader                              $4.58   \n",
       "132     Persuasion                                        $3.22   \n",
       "108     Extraction, Quickblade Of Trembling Hands         $3.53   \n",
       "\n",
       "                                                     Total Purchase Value  \n",
       "Item ID Item Name                                                          \n",
       "92      Final Critic                                               $59.99  \n",
       "178     Oathbreaker, Last Hope of the Breaking Storm               $50.76  \n",
       "145     Fiery Glass Crusader                                       $41.22  \n",
       "132     Persuasion                                                 $28.99  \n",
       "108     Extraction, Quickblade Of Trembling Hands                  $31.77  "
      ],
      "text/html": "<div>\n<style scoped>\n    .dataframe tbody tr th:only-of-type {\n        vertical-align: middle;\n    }\n\n    .dataframe tbody tr th {\n        vertical-align: top;\n    }\n\n    .dataframe thead th {\n        text-align: right;\n    }\n</style>\n<table border=\"1\" class=\"dataframe\">\n  <thead>\n    <tr style=\"text-align: right;\">\n      <th></th>\n      <th></th>\n      <th>Purchase Count</th>\n      <th>Item Price</th>\n      <th>Total Purchase Value</th>\n    </tr>\n    <tr>\n      <th>Item ID</th>\n      <th>Item Name</th>\n      <th></th>\n      <th></th>\n      <th></th>\n    </tr>\n  </thead>\n  <tbody>\n    <tr>\n      <th>92</th>\n      <th>Final Critic</th>\n      <td>13</td>\n      <td>$4.61</td>\n      <td>$59.99</td>\n    </tr>\n    <tr>\n      <th>178</th>\n      <th>Oathbreaker, Last Hope of the Breaking Storm</th>\n      <td>12</td>\n      <td>$4.23</td>\n      <td>$50.76</td>\n    </tr>\n    <tr>\n      <th>145</th>\n      <th>Fiery Glass Crusader</th>\n      <td>9</td>\n      <td>$4.58</td>\n      <td>$41.22</td>\n    </tr>\n    <tr>\n      <th>132</th>\n      <th>Persuasion</th>\n      <td>9</td>\n      <td>$3.22</td>\n      <td>$28.99</td>\n    </tr>\n    <tr>\n      <th>108</th>\n      <th>Extraction, Quickblade Of Trembling Hands</th>\n      <td>9</td>\n      <td>$3.53</td>\n      <td>$31.77</td>\n    </tr>\n  </tbody>\n</table>\n</div>"
     },
     "metadata": {},
     "execution_count": 15
    }
   ],
   "source": [
    "\n",
    "# Create new Data Frame with Item ID, Item Name, and Item Price columns\n",
    "\n",
    "item_df = purchase_data_df[['Item ID', 'Item Name', 'Price']]\n",
    "\n",
    "items = item_df.groupby(['Item ID', 'Item Name'])\n",
    "\n",
    "# Calculating all item values\n",
    "item_purchase_count = items['Item Name'].count()\n",
    "item_avg_price = items['Price'].mean()\n",
    "item_total_price = items['Price'].sum()\n",
    "\n",
    "# item_avg_price\n",
    "# item_purchase_count\n",
    "# item_total_price\n",
    "\n",
    "# Creating a item summary dictionary for a Data Frame\n",
    "\n",
    "item_summary = {\n",
    "    'Purchase Count' : item_purchase_count,\n",
    "    'Item Price' : item_avg_price,\n",
    "    'Total Purchase Value' : item_total_price\n",
    "}\n",
    "\n",
    "item_summary_table = pd.DataFrame(item_summary)\n",
    "\n",
    "# Sorting by descending purchase count, then format purchases/price to USD with 2 decimals\n",
    "\n",
    "item_summary_table = item_summary_table.sort_values('Purchase Count', ascending=False)\n",
    "\n",
    "item_summary_table['Item Price'] = item_summary_table['Item Price'].map('${:,.2f}'.format)\n",
    "item_summary_table['Total Purchase Value'] = item_summary_table['Total Purchase Value'].map('${:,.2f}'.format)\n",
    "\n",
    "\n",
    "\n",
    "item_summary_table.head(5)"
   ]
  },
  {
   "cell_type": "markdown",
   "metadata": {},
   "source": [
    "## Most Profitable Items"
   ]
  },
  {
   "cell_type": "markdown",
   "metadata": {},
   "source": [
    "* Sort the above table by total purchase value in descending order\n",
    "\n",
    "\n",
    "* Optional: give the displayed data cleaner formatting\n",
    "\n",
    "\n",
    "* Display a preview of the data frame\n",
    "\n"
   ]
  },
  {
   "cell_type": "code",
   "execution_count": 16,
   "metadata": {
    "scrolled": true
   },
   "outputs": [
    {
     "output_type": "execute_result",
     "data": {
      "text/plain": [
       "                                                      Purchase Count  \\\n",
       "Item ID Item Name                                                      \n",
       "92      Final Critic                                              13   \n",
       "178     Oathbreaker, Last Hope of the Breaking Storm              12   \n",
       "82      Nirvana                                                    9   \n",
       "145     Fiery Glass Crusader                                       9   \n",
       "103     Singed Scalpel                                             8   \n",
       "\n",
       "                                                     Item Price  \\\n",
       "Item ID Item Name                                                 \n",
       "92      Final Critic                                      $4.61   \n",
       "178     Oathbreaker, Last Hope of the Breaking Storm      $4.23   \n",
       "82      Nirvana                                           $4.90   \n",
       "145     Fiery Glass Crusader                              $4.58   \n",
       "103     Singed Scalpel                                    $4.35   \n",
       "\n",
       "                                                     Total Purchase Value  \n",
       "Item ID Item Name                                                          \n",
       "92      Final Critic                                               $59.99  \n",
       "178     Oathbreaker, Last Hope of the Breaking Storm               $50.76  \n",
       "82      Nirvana                                                    $44.10  \n",
       "145     Fiery Glass Crusader                                       $41.22  \n",
       "103     Singed Scalpel                                             $34.80  "
      ],
      "text/html": "<div>\n<style scoped>\n    .dataframe tbody tr th:only-of-type {\n        vertical-align: middle;\n    }\n\n    .dataframe tbody tr th {\n        vertical-align: top;\n    }\n\n    .dataframe thead th {\n        text-align: right;\n    }\n</style>\n<table border=\"1\" class=\"dataframe\">\n  <thead>\n    <tr style=\"text-align: right;\">\n      <th></th>\n      <th></th>\n      <th>Purchase Count</th>\n      <th>Item Price</th>\n      <th>Total Purchase Value</th>\n    </tr>\n    <tr>\n      <th>Item ID</th>\n      <th>Item Name</th>\n      <th></th>\n      <th></th>\n      <th></th>\n    </tr>\n  </thead>\n  <tbody>\n    <tr>\n      <th>92</th>\n      <th>Final Critic</th>\n      <td>13</td>\n      <td>$4.61</td>\n      <td>$59.99</td>\n    </tr>\n    <tr>\n      <th>178</th>\n      <th>Oathbreaker, Last Hope of the Breaking Storm</th>\n      <td>12</td>\n      <td>$4.23</td>\n      <td>$50.76</td>\n    </tr>\n    <tr>\n      <th>82</th>\n      <th>Nirvana</th>\n      <td>9</td>\n      <td>$4.90</td>\n      <td>$44.10</td>\n    </tr>\n    <tr>\n      <th>145</th>\n      <th>Fiery Glass Crusader</th>\n      <td>9</td>\n      <td>$4.58</td>\n      <td>$41.22</td>\n    </tr>\n    <tr>\n      <th>103</th>\n      <th>Singed Scalpel</th>\n      <td>8</td>\n      <td>$4.35</td>\n      <td>$34.80</td>\n    </tr>\n  </tbody>\n</table>\n</div>"
     },
     "metadata": {},
     "execution_count": 16
    }
   ],
   "source": [
    "# Duplicating an earlier data frame since item summary table is already mapped with formatting\n",
    "most_profitable_summary = item_summary\n",
    "\n",
    "most_profitable_summary_table = pd.DataFrame(most_profitable_summary)\n",
    "\n",
    "# Sorting by total purchase value, then format purchases/price to USD with 2 decimals\n",
    "most_profitable_summary_table = most_profitable_summary_table.sort_values('Total Purchase Value', ascending=False)\n",
    "\n",
    "most_profitable_summary_table['Item Price'] = most_profitable_summary_table['Item Price'].map('${:,.2f}'.format)\n",
    "most_profitable_summary_table['Total Purchase Value'] = most_profitable_summary_table['Total Purchase Value'].map('${:,.2f}'.format)\n",
    "\n",
    "most_profitable_summary_table.head()"
   ]
  }
 ],
 "metadata": {
  "anaconda-cloud": {},
  "kernel_info": {
   "name": "python3"
  },
  "kernelspec": {
   "name": "python3610jvsc74a57bd0e972a1c227eab60d79da5ddea00ebea501e29c795e9aef26b275d2f9e668c2f2",
   "display_name": "Python 3.6.10 64-bit ('PythonData': conda)"
  },
  "language_info": {
   "codemirror_mode": {
    "name": "ipython",
    "version": 3
   },
   "file_extension": ".py",
   "mimetype": "text/x-python",
   "name": "python",
   "nbconvert_exporter": "python",
   "pygments_lexer": "ipython3",
   "version": "3.6.10-final"
  },
  "latex_envs": {
   "LaTeX_envs_menu_present": true,
   "autoclose": false,
   "autocomplete": true,
   "bibliofile": "biblio.bib",
   "cite_by": "apalike",
   "current_citInitial": 1,
   "eqLabelWithNumbers": true,
   "eqNumInitial": 1,
   "hotkeys": {
    "equation": "Ctrl-E",
    "itemize": "Ctrl-I"
   },
   "labels_anchors": false,
   "latex_user_defs": false,
   "report_style_numbering": false,
   "user_envs_cfg": false
  },
  "nteract": {
   "version": "0.2.0"
  }
 },
 "nbformat": 4,
 "nbformat_minor": 4
}